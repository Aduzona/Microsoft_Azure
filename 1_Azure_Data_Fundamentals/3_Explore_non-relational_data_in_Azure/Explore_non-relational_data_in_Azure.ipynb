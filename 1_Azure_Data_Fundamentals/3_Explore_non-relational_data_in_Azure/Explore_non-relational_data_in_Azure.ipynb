{
 "cells": [
  {
   "cell_type": "markdown",
   "metadata": {},
   "source": [
    "# Explore non-relational data in Azure\n",
    "\n",
    "Learn the fundamentals of database concepts in a cloud environment, get basic skilling in cloud data services, and build your foundational knowledge of cloud data services within Microsoft Azure. You will explore non-relational data offerings, provisioning and deploying non-relational databases, and non-relational data stores with Microsoft Azure.\n",
    "\n",
    "## Explore non-relational data offerings in Azure\n",
    "\n",
    "**Learning objectives**\n",
    "\n",
    "In this module, you will:\n",
    "\n",
    "* Explore use-cases and management benefits of using Azure Table Storage\n",
    "* Explore use-cases and management benefits of using Azure Blob Storage\n",
    "* Explore use-cases and management benefits of using Azure File Storage\n",
    "* Explore use-cases and management benefits of using Azure Cosmos DB"
   ]
  },
  {
   "cell_type": "markdown",
   "metadata": {},
   "source": [
    "To help ensure fast access, Azure Table Storage splits a table into partitions.\n",
    "Partitioning Helps to organize data and improve scalability and performance."
   ]
  },
  {
   "cell_type": "code",
   "execution_count": null,
   "metadata": {},
   "outputs": [],
   "source": []
  }
 ],
 "metadata": {
  "interpreter": {
   "hash": "60062bfbbdb55d7c70b884c78dba17d93f7bddb21846b67229a99cf865725014"
  },
  "kernelspec": {
   "display_name": "Python 3.7.6 64-bit ('base': conda)",
   "language": "python",
   "name": "python3"
  },
  "language_info": {
   "name": "python",
   "version": "3.7.6"
  },
  "orig_nbformat": 4
 },
 "nbformat": 4,
 "nbformat_minor": 2
}
