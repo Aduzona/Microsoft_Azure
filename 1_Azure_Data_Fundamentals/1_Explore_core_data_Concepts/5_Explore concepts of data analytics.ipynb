{
 "cells": [
  {
   "cell_type": "markdown",
   "metadata": {},
   "source": [
    "# Explore concepts of data analytics\n",
    "\n",
    "**Learning objectives**\n",
    "\n",
    "In this module, you will:\n",
    "\n",
    "* Learn about data ingestion and processing\n",
    "* Explore data visualization\n",
    "* Explore data analytics"
   ]
  },
  {
   "cell_type": "code",
   "execution_count": null,
   "metadata": {},
   "outputs": [],
   "source": []
  }
 ],
 "metadata": {
  "interpreter": {
   "hash": "60062bfbbdb55d7c70b884c78dba17d93f7bddb21846b67229a99cf865725014"
  },
  "kernelspec": {
   "display_name": "Python 3.7.6 64-bit ('base': conda)",
   "name": "python3"
  },
  "language_info": {
   "name": "python",
   "version": "3.7.6"
  },
  "orig_nbformat": 4
 },
 "nbformat": 4,
 "nbformat_minor": 2
}
