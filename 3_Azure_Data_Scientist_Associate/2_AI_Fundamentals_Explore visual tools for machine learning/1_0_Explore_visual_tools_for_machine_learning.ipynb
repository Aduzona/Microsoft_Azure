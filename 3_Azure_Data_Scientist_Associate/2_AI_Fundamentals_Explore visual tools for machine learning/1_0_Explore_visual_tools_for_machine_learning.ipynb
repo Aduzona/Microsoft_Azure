{
 "cells": [
  {
   "cell_type": "markdown",
   "metadata": {},
   "source": [
    "1.0 [What is machine Learning](https://www.microsoft.com/en-us/videoplayer/embed/RE4xAok?postJsllMsg=true)\n",
    "\n",
    "compute_instance= $0.19/hr\n",
    "compute_cluster = $0.19/hr\n",
    "\n",
    "1.1. ![Explore dataset](1_Explore_Data.png)\n",
    "\n",
    "2. Create a Regression Model with Azure Machine Learning designer"
   ]
  },
  {
   "cell_type": "code",
   "execution_count": null,
   "metadata": {},
   "outputs": [],
   "source": []
  }
 ],
 "metadata": {
  "language_info": {
   "name": "python"
  },
  "orig_nbformat": 4
 },
 "nbformat": 4,
 "nbformat_minor": 2
}
